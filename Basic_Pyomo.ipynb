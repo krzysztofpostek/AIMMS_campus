{
  "cells": [
    {
      "cell_type": "markdown",
      "metadata": {
        "id": "view-in-github",
        "colab_type": "text"
      },
      "source": [
        "<a href=\"https://colab.research.google.com/github/krzysztofpostek/AIMMS_campus/blob/main/Basic_Pyomo.ipynb\" target=\"_parent\"><img src=\"https://colab.research.google.com/assets/colab-badge.svg\" alt=\"Open In Colab\"/></a>"
      ]
    },
    {
      "cell_type": "code",
      "source": [
        "# Install Pyomo and solvers for Google Colab\n",
        "import sys\n",
        "if \"google.colab\" in sys.modules:\n",
        "    !wget -N -q https://raw.githubusercontent.com/jckantor/MO-book/main/tools/install_on_colab.py \n",
        "    %run install_on_colab.py"
      ],
      "metadata": {
        "colab": {
          "base_uri": "https://localhost:8080/"
        },
        "id": "qOTL5Flxk8FH",
        "outputId": "fd5f18af-5526-401b-ca63-06edbdec7415"
      },
      "execution_count": 1,
      "outputs": [
        {
          "output_type": "stream",
          "name": "stdout",
          "text": [
            "installing pyomo . pyomo installed\n",
            "installing and testing solvers ...\n",
            ".. glpk installed\n",
            ".. ipopt installed\n",
            ".. gecode installed\n",
            ".. bonmin installed\n",
            ".. couenne installed\n",
            ".. gurobi_direct installed\n",
            ".. cplex_direct installed\n",
            ".. cbc installed\n",
            "Using the Community license in this session. If you have a full Xpress license, pass the full path to your license file to xpress.init(). If you want to use the FICO Community license and no longer want to see this message, use the following code before using the xpress module:\n",
            "  xpress.init('/usr/local/lib/python3.7/dist-packages/xpress/license/community-xpauth.xpr')\n",
            "\n",
            ".. xpress installed\n",
            "installation and testing complete\n"
          ]
        }
      ]
    },
    {
      "cell_type": "code",
      "source": [
        "from io import StringIO\n",
        "import numpy as np\n",
        "import pandas as pd\n",
        "import pyomo.environ as pyo\n",
        "import matplotlib.pyplot as plt"
      ],
      "metadata": {
        "id": "ICWw0kN5mYcO"
      },
      "execution_count": 2,
      "outputs": []
    },
    {
      "cell_type": "code",
      "source": [
        "# Basic Pyomo model to train on, solves the problem \n",
        "# min c^T x \n",
        "# s.t. A * x <= b\n",
        "# where x is a nonnegative vector\n",
        "\n",
        "# define the data\n",
        "n = 2\n",
        "m = 2\n",
        "c = np.random.rand(n)\n",
        "A = np.random.rand(m, n)\n",
        "b = np.random.rand(m) * 10\n",
        "model = pyo.ConcreteModel(\"Model title\")\n",
        "\n",
        "# set to store the indices for the decision variables, same length as the objective vector\n",
        "model.P = pyo.Set(initialize=list(range(len(c))))\n",
        "\n",
        "# Variables = how much of each product we make\n",
        "model.x = pyo.Var(model.P, domain=pyo.NonNegativeReals)\n",
        "# use pyo.NonNegativeIntegers if you need integer variables\n",
        "\n",
        "# Define the object which will store all constraints\n",
        "model.constraints = pyo.ConstraintList()\n",
        "\n",
        "# Add the constraints one by one\n",
        "for j in range(m):\n",
        "  model.constraints.add(expr = pyo.quicksum(model.x[i] * A[j, i] for i in model.P) <= b[j])\n",
        "\n",
        "model.obj = pyo.Objective(expr = pyo.quicksum(model.x[i] * c[i] for i in model.P), sense=pyo.maximize)\n",
        "\n",
        "pyo.SolverFactory(\"cbc\").solve(model)\n",
        "\n",
        "# Print the solution\n",
        "for i in model.P:\n",
        "  print(f\"Variable x[{i}] = {model.x[i]()}\")\n",
        "\n",
        "# Print the objective\n",
        "print(f\"Optimal objective: {model.obj()}\")"
      ],
      "metadata": {
        "colab": {
          "base_uri": "https://localhost:8080/"
        },
        "id": "g5LipE5Zk8Og",
        "outputId": "9a65e967-fda7-468b-a240-49db35af043f"
      },
      "execution_count": 15,
      "outputs": [
        {
          "output_type": "stream",
          "name": "stdout",
          "text": [
            "Variable x[0] = 33.074159\n",
            "Variable x[1] = 0.0\n",
            "Optimal objective: 30.852385105591054\n"
          ]
        }
      ]
    }
  ],
  "metadata": {
    "colab": {
      "collapsed_sections": [],
      "name": "Basic_Pyomo.ipynb",
      "provenance": [],
      "include_colab_link": true
    },
    "kernelspec": {
      "display_name": "Python 3",
      "language": "python",
      "name": "python3"
    },
    "language_info": {
      "codemirror_mode": {
        "name": "ipython",
        "version": 3
      },
      "file_extension": ".py",
      "mimetype": "text/x-python",
      "name": "python",
      "nbconvert_exporter": "python",
      "pygments_lexer": "ipython3",
      "version": "3.6.6"
    },
    "latex_envs": {
      "LaTeX_envs_menu_present": true,
      "autoclose": false,
      "autocomplete": true,
      "bibliofile": "biblio.bib",
      "cite_by": "apalike",
      "current_citInitial": 1,
      "eqLabelWithNumbers": true,
      "eqNumInitial": 1,
      "hotkeys": {
        "equation": "Ctrl-E",
        "itemize": "Ctrl-I"
      },
      "labels_anchors": false,
      "latex_user_defs": false,
      "report_style_numbering": false,
      "user_envs_cfg": false
    }
  },
  "nbformat": 4,
  "nbformat_minor": 0
}