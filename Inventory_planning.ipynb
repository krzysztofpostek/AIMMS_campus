{
  "nbformat": 4,
  "nbformat_minor": 0,
  "metadata": {
    "colab": {
      "name": "Inventory_planning.ipynb",
      "provenance": [],
      "authorship_tag": "ABX9TyNZyCqYbH7N6xUt4njAdKqp",
      "include_colab_link": true
    },
    "kernelspec": {
      "name": "python3",
      "display_name": "Python 3"
    },
    "language_info": {
      "name": "python"
    }
  },
  "cells": [
    {
      "cell_type": "markdown",
      "metadata": {
        "id": "view-in-github",
        "colab_type": "text"
      },
      "source": [
        "<a href=\"https://colab.research.google.com/github/krzysztofpostek/AIMMS_campus/blob/main/Inventory_planning.ipynb\" target=\"_parent\"><img src=\"https://colab.research.google.com/assets/colab-badge.svg\" alt=\"Open In Colab\"/></a>"
      ]
    },
    {
      "cell_type": "code",
      "execution_count": null,
      "metadata": {
        "id": "vAZDHnSETD3P"
      },
      "outputs": [],
      "source": [
        "# Install Pyomo and solvers for Google Colab\n",
        "import sys\n",
        "if \"google.colab\" in sys.modules:\n",
        "    !wget -N -q https://raw.githubusercontent.com/jckantor/MO-book/main/tools/install_on_colab.py \n",
        "    %run install_on_colab.py"
      ]
    },
    {
      "cell_type": "code",
      "source": [
        "from io import StringIO\n",
        "import pandas as pd\n",
        "demand_data = '''chip,Jan,Feb,Mar,Apr,May,Jun,Jul,Aug,Sep,Oct,Nov,Dec\n",
        "Logic,88,125,260,217,238,286,248,238,265,293,259,244\n",
        "Memory,47,62,81,65,95,118,86,89,82,82,84,66'''\n",
        "demand_chips = pd.read_csv( StringIO(demand_data), index_col='chip' )\n",
        "\n",
        "price_data = '''product,Jan,Feb,Mar,Apr,May,Jun,Jul,Aug,Sep,Oct,Nov,Dec\n",
        "copper,1,1,1,2,2,3,3,2,2,1,1,2\n",
        "silicon,4,3,3,3,5,5,6,5,4,3,3,5\n",
        "germanium,5,5,5,3,3,3,3,2,3,4,5,6\n",
        "plastic,0.1,0.1,0.1,0.1,0.1,0.1,0.1,0.1,0.1,0.1,0.1,0.1'''\n",
        "\n",
        "price = pd.read_csv( StringIO(price_data), index_col='product' )\n",
        "\n",
        "use = dict()\n",
        "use['Logic'] = { 'silicon' : 1, 'plastic' : 1, 'copper' : 4 }\n",
        "use['Memory'] = { 'germanium' : 1, 'plastic' : 1, 'copper' : 2 }\n",
        "use = pd.DataFrame.from_dict( use ).fillna(0).astype( int )\n",
        "material_demand = use.dot( demand_chips )"
      ],
      "metadata": {
        "id": "10uphXo5V7RA"
      },
      "execution_count": null,
      "outputs": []
    },
    {
      "cell_type": "code",
      "source": [
        "def BIMProductAcquisitionAndInventory( demand, acquisition_price, existing, desired, stock_limit, month_budget ):\n",
        "    m = pyo.ConcreteModel( 'Product acquisition and inventory' )\n",
        "    \n",
        "    periods  = demand.columns\n",
        "    products = demand.index \n",
        "    first    = periods[0] \n",
        "    prev     = { j : i for i,j in zip(periods,periods[1:]) }\n",
        "    last     = periods[-1]\n",
        "    \n",
        "    m.T = pyo.Set( initialize=periods )\n",
        "    m.P = pyo.Set( initialize=products )\n",
        "    \n",
        "    m.PT = m.P * m.T # to avoid internal set bloat\n",
        "    \n",
        "    m.x = pyo.Var( m.PT, within=pyo.NonNegativeReals )\n",
        "    m.s = pyo.Var( m.PT, within=pyo.NonNegativeReals )\n",
        "    \n",
        "    @m.Param( m.PT )\n",
        "    def pi(m,p,t):\n",
        "        return acquisition_price.loc[p][t]\n",
        "    \n",
        "    @m.Param( m.PT )\n",
        "    def h(m,p,t): \n",
        "        return .05 # the holding cost\n",
        "    \n",
        "    @m.Param( m.PT )\n",
        "    def delta(m,t,p):\n",
        "        return demand.loc[t,p]\n",
        "    \n",
        "    @m.Expression()\n",
        "    def acquisition_cost( m ):\n",
        "        return pyo.quicksum( m.pi[p,t] * m.x[p,t] for p in m.P for t in m.T )\n",
        "    \n",
        "    @m.Expression()\n",
        "    def inventory_cost( m ):\n",
        "        return pyo.quicksum( m.h[p,t] * m.s[p,t] for p in m.P for t in m.T )\n",
        "    \n",
        "    @m.Objective( sense=pyo.minimize )\n",
        "    def total_cost( m ):\n",
        "        return m.acquisition_cost + m.inventory_cost\n",
        "    \n",
        "    @m.Constraint( m.PT )\n",
        "    def balance( m, p, t ):\n",
        "        if t == first:\n",
        "            return existing[p] + m.x[p,t] == m.delta[p,t] + m.s[p,t]\n",
        "        else:\n",
        "            return m.x[p,t] + m.s[p,prev[t]] == m.delta[p,t] + m.s[p,t]\n",
        "        \n",
        "    @m.Constraint( m.P )\n",
        "    def finish( m, p ):\n",
        "        return m.s[p,last] >= desired[p]\n",
        "    \n",
        "    @m.Constraint( m.T )\n",
        "    def inventory( m, t ):\n",
        "        return pyo.quicksum( m.s[p,t] for p in m.P ) <= stock_limit\n",
        "    \n",
        "    @m.Constraint( m.T )\n",
        "    def budget( m, t ):\n",
        "        return pyo.quicksum( m.pi[p,t]*m.x[p,t] for p in m.P ) <= month_budget\n",
        "    \n",
        "    return m"
      ],
      "metadata": {
        "id": "ma-wlDF7W75Z"
      },
      "execution_count": null,
      "outputs": []
    },
    {
      "cell_type": "code",
      "source": [
        "def ShowTableOfPyomoVariables( X, I, J ):\n",
        "    return pd.DataFrame.from_records( [ [ pyo.value( X[i,j] ) for j in J ] for i in I ], index=I, columns=J )"
      ],
      "metadata": {
        "id": "5dXMrQA2XFpv"
      },
      "execution_count": null,
      "outputs": []
    },
    {
      "cell_type": "code",
      "source": [
        "m = BIMProductAcquisitionAndInventory( demand, price, \n",
        "           {'silicon' : 1000, 'germanium': 1500, 'plastic': 1750, 'copper' : 4800 }, \n",
        "           {'silicon' :  500, 'germanium':  500, 'plastic': 1000, 'copper' : 2000 },\n",
        "           9000, 2000 )\n",
        "\n",
        "pyo.SolverFactory( 'cbc' ).solve(m)"
      ],
      "metadata": {
        "id": "pfK_f90MXXJ2"
      },
      "execution_count": null,
      "outputs": []
    },
    {
      "cell_type": "code",
      "source": [
        "ShowTableOfPyomoVariables( m.x, m.P, m.T )\n",
        "stock = ShowTableOfPyomoVariables( m.s, m.P, m.T )\n",
        "stock"
      ],
      "metadata": {
        "id": "WaV_hJw9XZL5"
      },
      "execution_count": null,
      "outputs": []
    }
  ]
}