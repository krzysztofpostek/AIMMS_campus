{
 "cells": [
  {
   "cell_type": "code",
   "execution_count": 1,
   "metadata": {},
   "outputs": [],
   "source": [
    "import numpy as np\n",
    "from io import StringIO\n",
    "import pandas as pd\n",
    "import pyomo.environ as pyo\n",
    "\n",
    "# Data from Problem 12.3 from the book Model Building in Mathematical Programming (H. Paul Williams)\n",
    "# Two entries in the top row changed\n",
    "data = \"\"\"10 6 8 4 11 9 3\n",
    "0.5 0.7 – – 0.3 0.2 0.5\n",
    "0.1 0.2 – 0.3 – 0.6 –\n",
    "0.2 – 0.8 – – – 0.6\n",
    "0.05 0.03 – 0.07 0.1 – 0.08\n",
    " – – 0.01 – 0.05 – 0.05\"\"\"\n",
    "\n",
    "# Column names for the big Data Frame\n",
    "Columns = [\"Profit\", \"Grinding\", \"V_drilling\", \"H_drilling\", \"Boring\", \"Planing\"]\n",
    "\n",
    "Production = pd.read_csv(StringIO(data), \n",
    "                         header = None, \n",
    "                         sep = \"\\s+\", \n",
    "                         na_values=[\"–\"])\n",
    "Production.fillna(0, inplace = True)\n",
    "Production = Production.transpose()\n",
    "Production.columns = [\"Profit\", \"Grinding\", \"V_drilling\", \"H_drilling\", \"Boring\", \"Planing\"]\n",
    "Production.reindex(list(range(Production.shape[0])))\n",
    "Production.index.name = \"Product\"\n",
    "\n",
    "Profit = Production[\"Profit\"]\n",
    "# A little modification to the profit data to make the products more \"competitive\" against each other\n",
    "Profit[0] = 7\n",
    "Profit[4] = 8\n",
    "\n",
    "# Remove the Profit column from the data frame because we have it elsewhere\n",
    "Production.drop(\"Profit\", \n",
    "                  axis=1,\n",
    "                  inplace=True)\n",
    "\n",
    "# Numbers of machines of different types\n",
    "Nb_machines = pd.Series([4, 2, 3, 1, 1], \n",
    "                        index = [\"Grinding\", \"V_drilling\", \"H_drilling\", \"Boring\", \"Planing\"])\n",
    "# total hours per month = 24 working days times 8 hours\n",
    "Hours = 24 * 8"
   ]
  },
  {
   "cell_type": "code",
   "execution_count": 5,
   "metadata": {},
   "outputs": [],
   "source": [
    "Production.to_csv(\"Production_data.csv\")"
   ]
  },
  {
   "cell_type": "code",
   "execution_count": 8,
   "metadata": {},
   "outputs": [
    {
     "data": {
      "text/plain": [
       "0       0.0\n",
       "1     116.0\n",
       "2     720.0\n",
       "3      -0.0\n",
       "4    1885.0\n",
       "5     601.0\n",
       "6      -0.0\n",
       "Name: Nominal, dtype: float64"
      ]
     },
     "metadata": {},
     "output_type": "display_data"
    }
   ],
   "source": [
    "# Solving the nominal production problem\n",
    "\n",
    "m = pyo.ConcreteModel('Production planning')\n",
    "\n",
    "products = list(Profit.index)\n",
    "#Variables = how much of each product we make\n",
    "m.p = pyo.Var(products, \n",
    "              within=pyo.NonNegativeIntegers)\n",
    "\n",
    "m.constraints = pyo.ConstraintList()\n",
    "\n",
    "# for each resource we have the availability constraint\n",
    "for resource in Production.columns:\n",
    "    m.constraints.add(pyo.quicksum(m.p[product] * Production.loc[product, resource] for product in products) <= \n",
    "                      Hours * Nb_machines[resource])\n",
    "\n",
    "# Maximize the total profit\n",
    "m.obj = pyo.Objective(expr = pyo.quicksum(m.p[product] * Profit.loc[product] for product in products),\n",
    "                     sense = pyo.maximize)\n",
    "\n",
    "solver = pyo.SolverFactory('gurobi')\n",
    "solver.solve(m)\n",
    "\n",
    "nominal_plan = pd.Series({i: m.p[i]() for i in products}, name = \"Nominal\")\n",
    "display(nominal_plan)"
   ]
  },
  {
   "cell_type": "code",
   "execution_count": 9,
   "metadata": {},
   "outputs": [
    {
     "data": {
      "text/html": [
       "<div>\n",
       "<style scoped>\n",
       "    .dataframe tbody tr th:only-of-type {\n",
       "        vertical-align: middle;\n",
       "    }\n",
       "\n",
       "    .dataframe tbody tr th {\n",
       "        vertical-align: top;\n",
       "    }\n",
       "\n",
       "    .dataframe thead th {\n",
       "        text-align: right;\n",
       "    }\n",
       "</style>\n",
       "<table border=\"1\" class=\"dataframe\">\n",
       "  <thead>\n",
       "    <tr style=\"text-align: right;\">\n",
       "      <th></th>\n",
       "      <th>Nominal</th>\n",
       "      <th>Robust</th>\n",
       "    </tr>\n",
       "    <tr>\n",
       "      <th>Product</th>\n",
       "      <th></th>\n",
       "      <th></th>\n",
       "    </tr>\n",
       "  </thead>\n",
       "  <tbody>\n",
       "    <tr>\n",
       "      <th>0</th>\n",
       "      <td>0.0</td>\n",
       "      <td>3.0</td>\n",
       "    </tr>\n",
       "    <tr>\n",
       "      <th>1</th>\n",
       "      <td>116.0</td>\n",
       "      <td>126.0</td>\n",
       "    </tr>\n",
       "    <tr>\n",
       "      <th>2</th>\n",
       "      <td>720.0</td>\n",
       "      <td>685.0</td>\n",
       "    </tr>\n",
       "    <tr>\n",
       "      <th>3</th>\n",
       "      <td>-0.0</td>\n",
       "      <td>-0.0</td>\n",
       "    </tr>\n",
       "    <tr>\n",
       "      <th>4</th>\n",
       "      <td>1885.0</td>\n",
       "      <td>1791.0</td>\n",
       "    </tr>\n",
       "    <tr>\n",
       "      <th>5</th>\n",
       "      <td>601.0</td>\n",
       "      <td>569.0</td>\n",
       "    </tr>\n",
       "    <tr>\n",
       "      <th>6</th>\n",
       "      <td>-0.0</td>\n",
       "      <td>-0.0</td>\n",
       "    </tr>\n",
       "  </tbody>\n",
       "</table>\n",
       "</div>"
      ],
      "text/plain": [
       "         Nominal  Robust\n",
       "Product                 \n",
       "0            0.0     3.0\n",
       "1          116.0   126.0\n",
       "2          720.0   685.0\n",
       "3           -0.0    -0.0\n",
       "4         1885.0  1791.0\n",
       "5          601.0   569.0\n",
       "6           -0.0    -0.0"
      ]
     },
     "metadata": {},
     "output_type": "display_data"
    }
   ],
   "source": [
    "# We shall now solve the robust problem with each (product, machine) time deviating\n",
    "# by at most max_perturbation * 100%, \n",
    "# and per machine the  at most unc_budget products in total deviate by their max\n",
    "max_perturbation = 0.05\n",
    "unc_budget = 1\n",
    "\n",
    "Production_Perturbation = Production.applymap(lambda x : x * max_perturbation)\n",
    "\n",
    "m = pyo.ConcreteModel('Production planning')\n",
    "\n",
    "products = list(Profit.index)\n",
    "resources = list(Production.columns)\n",
    "\n",
    "# Old variables\n",
    "m.p = pyo.Var(products, \n",
    "              within=pyo.NonNegativeIntegers)\n",
    "# Variable which will act as a proxy on s >= abs(duration - nominal duration)\n",
    "m.s = pyo.Var(products, \n",
    "              resources,\n",
    "              within=pyo.NonNegativeReals)\n",
    "# Dual variable related to the budget constraint in the uncertainty set\n",
    "m.lam = pyo.Var(resources,\n",
    "              within=pyo.NonNegativeReals)\n",
    "\n",
    "m.constraints = pyo.ConstraintList()\n",
    "\n",
    "# for each resource we have the availability constraint\n",
    "for resource in resources:\n",
    "    m.constraints.add(unc_budget * m.lam[resource] + \n",
    "                      pyo.quicksum(m.p[product] * Production.loc[product, resource] for product in products) +\n",
    "                      pyo.quicksum(m.s[product, resource] for product in products)\n",
    "                      <= Hours * Nb_machines[resource])\n",
    "    \n",
    "# constraints that enforce the role s plays\n",
    "for resource in resources:\n",
    "    for product in products:\n",
    "        m.constraints.add(m.s[product, resource] >= \n",
    "                          m.p[product] * Production_Perturbation.loc[product, resource] - m.lam[resource])\n",
    "        \n",
    "m.obj = pyo.Objective(expr = pyo.quicksum(m.p[product] * Profit.loc[product] for product in products),\n",
    "                     sense = pyo.maximize)\n",
    "\n",
    "solver = pyo.SolverFactory('gurobi')\n",
    "solver.solve(m)\n",
    "\n",
    "# Extract the solution\n",
    "robust_plan = pd.Series({i: m.p[i]() for i in products}, name = \"Robust\")\n",
    "production_plans = pd.concat([nominal_plan, robust_plan], axis = 1)\n",
    "production_plans.index.name = \"Product\"\n",
    "display(production_plans)"
   ]
  },
  {
   "cell_type": "code",
   "execution_count": 15,
   "metadata": {},
   "outputs": [
    {
     "data": {
      "text/plain": [
       "Nominal    26950.674847\n",
       "Robust     25709.937347\n",
       "dtype: float64"
      ]
     },
     "metadata": {},
     "output_type": "display_data"
    }
   ],
   "source": [
    "production_plans_profits = production_plans.apply(lambda x: sum([x[i] * Profit[i] for i in x.index]), \n",
    "                                                  axis = 0)\n",
    "display(production_plans_profits)"
   ]
  }
 ],
 "metadata": {
  "kernelspec": {
   "display_name": "Python 3",
   "language": "python",
   "name": "python3"
  },
  "language_info": {
   "codemirror_mode": {
    "name": "ipython",
    "version": 3
   },
   "file_extension": ".py",
   "mimetype": "text/x-python",
   "name": "python",
   "nbconvert_exporter": "python",
   "pygments_lexer": "ipython3",
   "version": "3.6.6"
  },
  "latex_envs": {
   "LaTeX_envs_menu_present": true,
   "autoclose": false,
   "autocomplete": true,
   "bibliofile": "biblio.bib",
   "cite_by": "apalike",
   "current_citInitial": 1,
   "eqLabelWithNumbers": true,
   "eqNumInitial": 1,
   "hotkeys": {
    "equation": "Ctrl-E",
    "itemize": "Ctrl-I"
   },
   "labels_anchors": false,
   "latex_user_defs": false,
   "report_style_numbering": false,
   "user_envs_cfg": false
  }
 },
 "nbformat": 4,
 "nbformat_minor": 2
}
