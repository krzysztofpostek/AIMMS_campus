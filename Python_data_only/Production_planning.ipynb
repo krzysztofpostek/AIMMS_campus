{
  "cells": [
    {
      "cell_type": "markdown",
      "metadata": {
        "id": "QjqvnWtxTV7_"
      },
      "source": [
        "# Production Planning"
      ]
    },
    {
      "cell_type": "code",
      "source": [
        "# Install Pyomo and solvers for Google Colab\n",
        "import sys\n",
        "if \"google.colab\" in sys.modules:\n",
        "    !wget -N -q https://raw.githubusercontent.com/jckantor/MO-book/main/tools/install_on_colab.py \n",
        "    %run install_on_colab.py"
      ],
      "metadata": {
        "id": "0QEd5BTUTjmd"
      },
      "execution_count": null,
      "outputs": []
    },
    {
      "cell_type": "code",
      "execution_count": null,
      "metadata": {
        "id": "4_dYqLjSTV8A",
        "outputId": "dd61256f-8e8f-498f-a64f-459ff65f1ef7"
      },
      "outputs": [
        {
          "data": {
            "text/plain": [
              "'production'"
            ]
          },
          "metadata": {},
          "output_type": "display_data"
        },
        {
          "data": {
            "text/html": [
              "<div>\n",
              "<style scoped>\n",
              "    .dataframe tbody tr th:only-of-type {\n",
              "        vertical-align: middle;\n",
              "    }\n",
              "\n",
              "    .dataframe tbody tr th {\n",
              "        vertical-align: top;\n",
              "    }\n",
              "\n",
              "    .dataframe thead th {\n",
              "        text-align: right;\n",
              "    }\n",
              "</style>\n",
              "<table border=\"1\" class=\"dataframe\">\n",
              "  <thead>\n",
              "    <tr style=\"text-align: right;\">\n",
              "      <th></th>\n",
              "      <th>Grinding</th>\n",
              "      <th>V_drilling</th>\n",
              "      <th>H_drilling</th>\n",
              "      <th>Boring</th>\n",
              "      <th>Planing</th>\n",
              "    </tr>\n",
              "    <tr>\n",
              "      <th>Product</th>\n",
              "      <th></th>\n",
              "      <th></th>\n",
              "      <th></th>\n",
              "      <th></th>\n",
              "      <th></th>\n",
              "    </tr>\n",
              "  </thead>\n",
              "  <tbody>\n",
              "    <tr>\n",
              "      <th>0</th>\n",
              "      <td>0.5</td>\n",
              "      <td>0.1</td>\n",
              "      <td>0.2</td>\n",
              "      <td>0.05</td>\n",
              "      <td>0.00</td>\n",
              "    </tr>\n",
              "    <tr>\n",
              "      <th>1</th>\n",
              "      <td>0.7</td>\n",
              "      <td>0.2</td>\n",
              "      <td>0.0</td>\n",
              "      <td>0.03</td>\n",
              "      <td>0.00</td>\n",
              "    </tr>\n",
              "    <tr>\n",
              "      <th>2</th>\n",
              "      <td>0.0</td>\n",
              "      <td>0.0</td>\n",
              "      <td>0.8</td>\n",
              "      <td>0.00</td>\n",
              "      <td>0.01</td>\n",
              "    </tr>\n",
              "    <tr>\n",
              "      <th>3</th>\n",
              "      <td>0.0</td>\n",
              "      <td>0.3</td>\n",
              "      <td>0.0</td>\n",
              "      <td>0.07</td>\n",
              "      <td>0.00</td>\n",
              "    </tr>\n",
              "    <tr>\n",
              "      <th>4</th>\n",
              "      <td>0.3</td>\n",
              "      <td>0.0</td>\n",
              "      <td>0.0</td>\n",
              "      <td>0.10</td>\n",
              "      <td>0.05</td>\n",
              "    </tr>\n",
              "    <tr>\n",
              "      <th>5</th>\n",
              "      <td>0.2</td>\n",
              "      <td>0.6</td>\n",
              "      <td>0.0</td>\n",
              "      <td>0.00</td>\n",
              "      <td>0.00</td>\n",
              "    </tr>\n",
              "    <tr>\n",
              "      <th>6</th>\n",
              "      <td>0.5</td>\n",
              "      <td>0.0</td>\n",
              "      <td>0.6</td>\n",
              "      <td>0.08</td>\n",
              "      <td>0.05</td>\n",
              "    </tr>\n",
              "  </tbody>\n",
              "</table>\n",
              "</div>"
            ],
            "text/plain": [
              "         Grinding  V_drilling  H_drilling  Boring  Planing\n",
              "Product                                                   \n",
              "0             0.5         0.1         0.2    0.05     0.00\n",
              "1             0.7         0.2         0.0    0.03     0.00\n",
              "2             0.0         0.0         0.8    0.00     0.01\n",
              "3             0.0         0.3         0.0    0.07     0.00\n",
              "4             0.3         0.0         0.0    0.10     0.05\n",
              "5             0.2         0.6         0.0    0.00     0.00\n",
              "6             0.5         0.0         0.6    0.08     0.05"
            ]
          },
          "metadata": {},
          "output_type": "display_data"
        },
        {
          "data": {
            "text/plain": [
              "'profit'"
            ]
          },
          "metadata": {},
          "output_type": "display_data"
        },
        {
          "data": {
            "text/plain": [
              "Product\n",
              "0    7.0\n",
              "1    6.0\n",
              "2    8.0\n",
              "3    4.0\n",
              "4    8.0\n",
              "5    9.0\n",
              "6    3.0\n",
              "Name: Profit, dtype: float64"
            ]
          },
          "metadata": {},
          "output_type": "display_data"
        }
      ],
      "source": [
        "from io import StringIO\n",
        "import numpy as np\n",
        "import pandas as pd\n",
        "import pyomo.environ as pyo\n",
        "import matplotlib.pyplot as plt\n",
        "\n",
        "# Data from Problem 12.3 from the book Model Building in Mathematical Programming (H. Paul Williams)\n",
        "# Two entries in the top row changed\n",
        "\n",
        "file = StringIO(\"\"\"\n",
        "10 6 8 4 11 9 3\n",
        "0.5 0.7 – – 0.3 0.2 0.5\n",
        "0.1 0.2 – 0.3 – 0.6 –\n",
        "0.2 – 0.8 – – – 0.6\n",
        "0.05 0.03 – 0.07 0.1 – 0.08\n",
        " – – 0.01 – 0.05 – 0.05\n",
        " \"\"\")\n",
        "\n",
        "# Column names for the big Data Frame\n",
        "columns = [\"Profit\", \"Grinding\", \"V_drilling\", \"H_drilling\", \"Boring\", \"Planing\"]\n",
        "\n",
        "production = pd.read_csv(file, header=None, sep=\"\\s+\", na_values=[\"–\"]).fillna(0).T\n",
        "production.columns = columns\n",
        "production.reindex(list(range(production.shape[0])))\n",
        "production.index.name = \"Product\"\n",
        "\n",
        "# keep profit coefficients in a separate series\n",
        "profit = production[\"Profit\"]\n",
        "production.drop(\"Profit\", axis=1, inplace=True)\n",
        "\n",
        "# A little modification to the profit data to make the products more \"competitive\" against each other\n",
        "profit[0] = 7\n",
        "profit[4] = 8\n",
        "\n",
        "# Numbers of machines of different types\n",
        "nb_machines = pd.Series(\n",
        "    [4, 2, 3, 1, 1], index=[\"Grinding\", \"V_drilling\", \"H_drilling\", \"Boring\", \"Planing\"]\n",
        ")\n",
        "# total hours per month = 24 working days times 8 hours\n",
        "hours = 24 * 8\n",
        "\n",
        "display(\"production\", production)\n",
        "display(\"profit\", profit)"
      ]
    }
  ],
  "metadata": {
    "kernelspec": {
      "display_name": "Python 3 (ipykernel)",
      "language": "python",
      "name": "python3"
    },
    "language_info": {
      "codemirror_mode": {
        "name": "ipython",
        "version": 3
      },
      "file_extension": ".py",
      "mimetype": "text/x-python",
      "name": "python",
      "nbconvert_exporter": "python",
      "pygments_lexer": "ipython3",
      "version": "3.9.7"
    },
    "latex_envs": {
      "LaTeX_envs_menu_present": true,
      "autoclose": false,
      "autocomplete": true,
      "bibliofile": "biblio.bib",
      "cite_by": "apalike",
      "current_citInitial": 1,
      "eqLabelWithNumbers": true,
      "eqNumInitial": 1,
      "hotkeys": {
        "equation": "Ctrl-E",
        "itemize": "Ctrl-I"
      },
      "labels_anchors": false,
      "latex_user_defs": false,
      "report_style_numbering": false,
      "user_envs_cfg": false
    },
    "colab": {
      "name": "Production_planning.ipynb",
      "provenance": []
    }
  },
  "nbformat": 4,
  "nbformat_minor": 0
}